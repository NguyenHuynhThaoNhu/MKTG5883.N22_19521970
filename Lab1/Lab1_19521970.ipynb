{
  "nbformat": 4,
  "nbformat_minor": 0,
  "metadata": {
    "colab": {
      "provenance": []
    },
    "kernelspec": {
      "name": "python3",
      "display_name": "Python 3"
    },
    "language_info": {
      "name": "python"
    }
  },
  "cells": [
    {
      "cell_type": "code",
      "execution_count": 1,
      "metadata": {
        "colab": {
          "base_uri": "https://localhost:8080/"
        },
        "id": "38rf6vIgJJo-",
        "outputId": "7765935f-99a7-4e34-ac72-044a9c9cd51c"
      },
      "outputs": [
        {
          "output_type": "execute_result",
          "data": {
            "text/plain": [
              "2401"
            ]
          },
          "metadata": {},
          "execution_count": 1
        }
      ],
      "source": [
        "7**4"
      ]
    },
    {
      "cell_type": "markdown",
      "source": [
        "What is 7 to the power of 4?"
      ],
      "metadata": {
        "id": "Sq7aTYjINoW2"
      }
    },
    {
      "cell_type": "markdown",
      "source": [
        "Split this string:"
      ],
      "metadata": {
        "id": "uU8poaAENx4p"
      }
    },
    {
      "cell_type": "code",
      "source": [
        "s='Hi there Sam'"
      ],
      "metadata": {
        "id": "H5kKRSfcJxTb"
      },
      "execution_count": 3,
      "outputs": []
    },
    {
      "cell_type": "markdown",
      "source": [
        "into list."
      ],
      "metadata": {
        "id": "wecGm60AN7MN"
      }
    },
    {
      "cell_type": "code",
      "source": [
        "s.split(\" \")"
      ],
      "metadata": {
        "colab": {
          "base_uri": "https://localhost:8080/"
        },
        "id": "ox_RsmHQKhGt",
        "outputId": "a59abeaf-0d7a-405e-9921-0571f55172da"
      },
      "execution_count": 4,
      "outputs": [
        {
          "output_type": "execute_result",
          "data": {
            "text/plain": [
              "['Hi', 'there', 'Sam']"
            ]
          },
          "metadata": {},
          "execution_count": 4
        }
      ]
    },
    {
      "cell_type": "markdown",
      "source": [
        "given the variables:\n",
        "Use format() to print the following string. "
      ],
      "metadata": {
        "id": "82S-HxhLOGJK"
      }
    },
    {
      "cell_type": "code",
      "source": [
        "planet='Earth'\n",
        "diameter=12742"
      ],
      "metadata": {
        "id": "qtyTD-nTLp0n"
      },
      "execution_count": 5,
      "outputs": []
    },
    {
      "cell_type": "code",
      "source": [
        "\"The diameter of {} is {} kilometers.\".format(planet,diameter)"
      ],
      "metadata": {
        "colab": {
          "base_uri": "https://localhost:8080/",
          "height": 36
        },
        "id": "-GImWg_PL0Jd",
        "outputId": "24ca610e-f93d-4ffd-dab8-ce3b88b14123"
      },
      "execution_count": 6,
      "outputs": [
        {
          "output_type": "execute_result",
          "data": {
            "text/plain": [
              "'The diameter of Earth is 12742 kilometers.'"
            ],
            "application/vnd.google.colaboratory.intrinsic+json": {
              "type": "string"
            }
          },
          "metadata": {},
          "execution_count": 6
        }
      ]
    },
    {
      "cell_type": "markdown",
      "source": [
        "Given this nested list, use indexing to grap the word \"hello\""
      ],
      "metadata": {
        "id": "s-1EZT4cOZPF"
      }
    },
    {
      "cell_type": "code",
      "source": [
        "lst=[1,2,[3,4],[5,[100,200,['hello']],23,11],1,7]"
      ],
      "metadata": {
        "id": "VAFX7DIKL8iG"
      },
      "execution_count": 8,
      "outputs": []
    },
    {
      "cell_type": "code",
      "source": [
        "lst[3][1][2][0]"
      ],
      "metadata": {
        "colab": {
          "base_uri": "https://localhost:8080/",
          "height": 36
        },
        "id": "zR_kKZN6MLbB",
        "outputId": "bf42ba4e-1c89-4582-810a-913a8df951bc"
      },
      "execution_count": 9,
      "outputs": [
        {
          "output_type": "execute_result",
          "data": {
            "text/plain": [
              "'hello'"
            ],
            "application/vnd.google.colaboratory.intrinsic+json": {
              "type": "string"
            }
          },
          "metadata": {},
          "execution_count": 9
        }
      ]
    },
    {
      "cell_type": "markdown",
      "source": [
        "Given this nested dictionary grab the word \"Hello\". Be repared, this will be annoying/ tricky"
      ],
      "metadata": {
        "id": "1OpxxFS4OrET"
      }
    },
    {
      "cell_type": "code",
      "source": [
        "d={'k1':[1,2,3,{'tricky':['oh','man','inception',{'target':[1,2,3,'hello']}]}]}"
      ],
      "metadata": {
        "id": "IkcOLIpuMN7g"
      },
      "execution_count": 10,
      "outputs": []
    },
    {
      "cell_type": "code",
      "source": [
        "d['k1'][3]['tricky'][3]['target'][3]"
      ],
      "metadata": {
        "colab": {
          "base_uri": "https://localhost:8080/",
          "height": 36
        },
        "id": "Sn0COsw0MWmv",
        "outputId": "868142cd-b73b-4928-c580-0d0dfe5b09b6"
      },
      "execution_count": 11,
      "outputs": [
        {
          "output_type": "execute_result",
          "data": {
            "text/plain": [
              "'hello'"
            ],
            "application/vnd.google.colaboratory.intrinsic+json": {
              "type": "string"
            }
          },
          "metadata": {},
          "execution_count": 11
        }
      ]
    },
    {
      "cell_type": "markdown",
      "source": [
        "What is the main different between a tuple and a list? \n",
        "Create a function that graps the email website domain from a string in the form:\n",
        "      user@domain.com\n",
        "So for exmaple, passing \"user@domain.com\" would return domain.com\n"
      ],
      "metadata": {
        "id": "Qqf2PfvGPJV6"
      }
    },
    {
      "cell_type": "code",
      "source": [
        "def domainGet(email):\n",
        "  return email.split(\"@\")[1]"
      ],
      "metadata": {
        "id": "_I5Y77koMdV-"
      },
      "execution_count": 12,
      "outputs": []
    },
    {
      "cell_type": "code",
      "source": [
        "domainGet(\"user@domain.com\")"
      ],
      "metadata": {
        "colab": {
          "base_uri": "https://localhost:8080/",
          "height": 36
        },
        "id": "FrCByD-sMh0Y",
        "outputId": "900e655e-45f1-44fe-8b3e-fa74ed90f1d2"
      },
      "execution_count": 13,
      "outputs": [
        {
          "output_type": "execute_result",
          "data": {
            "text/plain": [
              "'domain.com'"
            ],
            "application/vnd.google.colaboratory.intrinsic+json": {
              "type": "string"
            }
          },
          "metadata": {},
          "execution_count": 13
        }
      ]
    },
    {
      "cell_type": "markdown",
      "source": [
        "Create a basis function taht returns to if the word \"dog\" is contained in the input string.Don't worry about edge cases like a punctuation being attached to the word dog, but do account for capitalization "
      ],
      "metadata": {
        "id": "ooHGiOwPP_gC"
      }
    },
    {
      "cell_type": "code",
      "source": [
        "def findDog(s):\n",
        "  return 'dog' in s"
      ],
      "metadata": {
        "id": "6aKHiRNsMqcX"
      },
      "execution_count": 14,
      "outputs": []
    },
    {
      "cell_type": "code",
      "source": [
        "findDog('Is there a dog here?')"
      ],
      "metadata": {
        "colab": {
          "base_uri": "https://localhost:8080/"
        },
        "id": "Vv6ePlG4MuCP",
        "outputId": "00246bf0-5f3f-46a8-a9cb-29b91082ba77"
      },
      "execution_count": 15,
      "outputs": [
        {
          "output_type": "execute_result",
          "data": {
            "text/plain": [
              "True"
            ]
          },
          "metadata": {},
          "execution_count": 15
        }
      ]
    },
    {
      "cell_type": "markdown",
      "source": [
        "Create a function that counts the number of time the word \"dog\" occurs in a string. Again ignore edge cases "
      ],
      "metadata": {
        "id": "0QFFY50pRL5j"
      }
    },
    {
      "cell_type": "code",
      "source": [
        "def countDog(s):\n",
        "  return s.count('dog')"
      ],
      "metadata": {
        "id": "_c8x8hx9Mvuw"
      },
      "execution_count": 16,
      "outputs": []
    },
    {
      "cell_type": "code",
      "source": [
        "countDog('This dog runs faster thann the other dog dule!')\n"
      ],
      "metadata": {
        "colab": {
          "base_uri": "https://localhost:8080/"
        },
        "id": "crcQx0rTM2hd",
        "outputId": "ff50835a-1e72-4084-ca10-87f9b257081a"
      },
      "execution_count": 17,
      "outputs": [
        {
          "output_type": "execute_result",
          "data": {
            "text/plain": [
              "2"
            ]
          },
          "metadata": {},
          "execution_count": 17
        }
      ]
    },
    {
      "cell_type": "markdown",
      "source": [
        "Use lambda expressions and the filter()function to filter out a word from a list that don't start with the letter 's'. For example: "
      ],
      "metadata": {
        "id": "ZtIdC3U0RyFp"
      }
    },
    {
      "cell_type": "code",
      "source": [
        "seq =['soup','dog','salad','cat','great']"
      ],
      "metadata": {
        "id": "WkjBQ-3hM4Yw"
      },
      "execution_count": 18,
      "outputs": []
    },
    {
      "cell_type": "code",
      "source": [
        "list (filter(lambda item: item[0]=='s',seq))"
      ],
      "metadata": {
        "colab": {
          "base_uri": "https://localhost:8080/"
        },
        "id": "ihCOfmMnNDtJ",
        "outputId": "7800cc96-9e4a-4ae1-9883-fe24125711a1"
      },
      "execution_count": 19,
      "outputs": [
        {
          "output_type": "execute_result",
          "data": {
            "text/plain": [
              "['soup', 'salad']"
            ]
          },
          "metadata": {},
          "execution_count": 19
        }
      ]
    },
    {
      "cell_type": "markdown",
      "source": [
        "# Final Problem \n",
        "\n",
        "You are littel too fast, and a police officer stop you. Write a function to return one of three possible resufts: \"No ticket\", \"small ticket\", \"big ticket\". If your speed  is 60 or less, the results is \" No ticket\". If speed is between 61 and 80 inclusive, the results is \"Big ticket\". Unless it is your birthday (encoded as a boolean value in the parametters of the function)-- On your birthday, your speed can be higher in all cases. "
      ],
      "metadata": {
        "id": "UY7evdA1Sfrk"
      }
    },
    {
      "cell_type": "code",
      "source": [
        "def caught_speeding(speed,is_birthday):\n",
        "  if(is_birthday):\n",
        "    speed=speed-5\n",
        "  print(speed)\n",
        "  if(speed<61):\n",
        "    return 'No Ticket'\n",
        "  elif(speed<81):\n",
        "    return 'Small Ticket'\n",
        "  else:\n",
        "    return 'Big Tiket'"
      ],
      "metadata": {
        "id": "AzIhtMZ-NFJ4"
      },
      "execution_count": 20,
      "outputs": []
    },
    {
      "cell_type": "code",
      "source": [
        "caught_speeding(81,True)"
      ],
      "metadata": {
        "colab": {
          "base_uri": "https://localhost:8080/",
          "height": 53
        },
        "id": "1gAUDDCmNOJZ",
        "outputId": "75496997-b6cb-496d-b5e3-f47ba88a72c6"
      },
      "execution_count": 21,
      "outputs": [
        {
          "output_type": "stream",
          "name": "stdout",
          "text": [
            "76\n"
          ]
        },
        {
          "output_type": "execute_result",
          "data": {
            "text/plain": [
              "'Small Ticket'"
            ],
            "application/vnd.google.colaboratory.intrinsic+json": {
              "type": "string"
            }
          },
          "metadata": {},
          "execution_count": 21
        }
      ]
    },
    {
      "cell_type": "code",
      "source": [
        "caught_speeding(81,False)"
      ],
      "metadata": {
        "colab": {
          "base_uri": "https://localhost:8080/",
          "height": 53
        },
        "id": "eKJufRmuNcu_",
        "outputId": "6b2ea8ca-34fd-49b8-a055-3c931da923f0"
      },
      "execution_count": 22,
      "outputs": [
        {
          "output_type": "stream",
          "name": "stdout",
          "text": [
            "81\n"
          ]
        },
        {
          "output_type": "execute_result",
          "data": {
            "text/plain": [
              "'Big Tiket'"
            ],
            "application/vnd.google.colaboratory.intrinsic+json": {
              "type": "string"
            }
          },
          "metadata": {},
          "execution_count": 22
        }
      ]
    },
    {
      "cell_type": "code",
      "source": [],
      "metadata": {
        "id": "oyw-iTsCUmka"
      },
      "execution_count": null,
      "outputs": []
    }
  ]
}